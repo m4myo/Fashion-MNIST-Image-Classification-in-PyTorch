{
  "cells": [
    {
      "cell_type": "code",
      "execution_count": 1,
      "metadata": {
        "colab": {
          "base_uri": "https://localhost:8080/"
        },
        "id": "sfZlUZ-0ErB0",
        "outputId": "0ab517fe-d700-4d4e-ea7e-df96631b8516"
      },
      "outputs": [
        {
          "output_type": "stream",
          "name": "stdout",
          "text": [
            "/bin/bash: mamba: command not found\n",
            "Looking in indexes: https://pypi.org/simple, https://us-python.pkg.dev/colab-wheels/public/simple/\n",
            "Collecting torchvision==0.9.1\n",
            "  Downloading torchvision-0.9.1-cp39-cp39-manylinux1_x86_64.whl (17.3 MB)\n",
            "\u001b[2K     \u001b[90m━━━━━━━━━━━━━━━━━━━━━━━━━━━━━━━━━━━━━━━━\u001b[0m \u001b[32m17.3/17.3 MB\u001b[0m \u001b[31m50.6 MB/s\u001b[0m eta \u001b[36m0:00:00\u001b[0m\n",
            "\u001b[?25hCollecting torch==1.8.1\n",
            "  Downloading torch-1.8.1-cp39-cp39-manylinux1_x86_64.whl (804.1 MB)\n",
            "\u001b[2K     \u001b[90m━━━━━━━━━━━━━━━━━━━━━━━━━━━━━━━━━━━━━━━\u001b[0m \u001b[32m804.1/804.1 MB\u001b[0m \u001b[31m2.1 MB/s\u001b[0m eta \u001b[36m0:00:00\u001b[0m\n",
            "\u001b[?25hRequirement already satisfied: pillow>=4.1.1 in /usr/local/lib/python3.9/dist-packages (from torchvision==0.9.1) (8.4.0)\n",
            "Requirement already satisfied: numpy in /usr/local/lib/python3.9/dist-packages (from torchvision==0.9.1) (1.22.4)\n",
            "Requirement already satisfied: typing-extensions in /usr/local/lib/python3.9/dist-packages (from torch==1.8.1) (4.5.0)\n",
            "Installing collected packages: torch, torchvision\n",
            "  Attempting uninstall: torch\n",
            "    Found existing installation: torch 2.0.0+cu118\n",
            "    Uninstalling torch-2.0.0+cu118:\n",
            "      Successfully uninstalled torch-2.0.0+cu118\n",
            "  Attempting uninstall: torchvision\n",
            "    Found existing installation: torchvision 0.15.1+cu118\n",
            "    Uninstalling torchvision-0.15.1+cu118:\n",
            "      Successfully uninstalled torchvision-0.15.1+cu118\n",
            "\u001b[31mERROR: pip's dependency resolver does not currently take into account all the packages that are installed. This behaviour is the source of the following dependency conflicts.\n",
            "torchtext 0.15.1 requires torch==2.0.0, but you have torch 1.8.1 which is incompatible.\n",
            "torchdata 0.6.0 requires torch==2.0.0, but you have torch 1.8.1 which is incompatible.\n",
            "torchaudio 2.0.1+cu118 requires torch==2.0.0, but you have torch 1.8.1 which is incompatible.\u001b[0m\u001b[31m\n",
            "\u001b[0mSuccessfully installed torch-1.8.1 torchvision-0.9.1\n"
          ]
        }
      ],
      "source": [
        "!mamba install -y torchvision\n",
        "!pip install torchvision==0.9.1 torch==1.8.1\n",
        "\n",
        "import torch\n",
        "import torch.nn as nn\n",
        "import torchvision.transforms as transforms\n",
        "import torchvision.datasets as dsets\n",
        "from torch.utils.data.sampler import SubsetRandomSampler\n",
        "import torch.optim as optim\n",
        "import torch.nn.functional as F\n",
        "import matplotlib.pyplot as plt\n",
        "import numpy as np"
      ]
    },
    {
      "cell_type": "code",
      "execution_count": 2,
      "metadata": {
        "id": "6KOqouNPFUh2"
      },
      "outputs": [],
      "source": [
        "# Plot the data to check what a sample looks like\n",
        "def show_data(data_sample):\n",
        "  plt.imshow(data_sample[0].numpy().reshape(28,28), cmap='gray') # image"
      ]
    },
    {
      "cell_type": "markdown",
      "metadata": {
        "id": "l0IGgkNWFsQi"
      },
      "source": [
        "# Get training and test data"
      ]
    },
    {
      "cell_type": "code",
      "execution_count": 3,
      "metadata": {
        "colab": {
          "base_uri": "https://localhost:8080/",
          "height": 582,
          "referenced_widgets": [
            "aa9aa42195bc42f883db6407142c7f16",
            "2003097232454456b34cd15561af03cb",
            "66059da703bd42d0bdc62378eca6a7eb",
            "629ac114fa9e42a0b51bab50838df3fb",
            "4505e618692041f897be5a5b8774ed43",
            "16a89b1d147e470e9731f996d3b7a12c",
            "02987a3343424e6a9e48f73005b24d9f",
            "290e3adb12a04dc3bb6d795cbd0fe50e",
            "6018ad07f9e74eb09a6738945ede0365",
            "83c0c8cfe34e403caddc0001f4664adc",
            "83953a9e955048e9bc5121ae277956c8",
            "92df5101495c4355a883c36d3bcb278d",
            "70c18d0821304af28a2ee42fb65765e0",
            "3b86c2d9de1c446dbf42b9d51972e90d",
            "d20366551d0d4bec8125e8d23226b3d9",
            "8a0fa95fe644465d961409a53f34fdca",
            "1bedc012754a4c6e8bf0267c0f2e5dd1",
            "e320d2468ca04029be7ba42072a442e2",
            "043d2c452afb471d9e5a583082ff51dd",
            "33cceb0d879b420791b830e15a5580e4",
            "5f1c6f1114194de09b31bd2d771dc286",
            "ac1a1841a3874fe78f111d20a6dd3da2",
            "e5e466067aca4fa38cd5f19660fc3cb5",
            "8039417c77e04adb8f7e3196630ff077",
            "9ed7256dba084fa88e7496538499b28b",
            "ec6fa1ebeace45c0ad809ca9c5b86571",
            "3d5e3b641a7841a6af60fd9acf1434fa",
            "bd5408c16df846849dd62e6082451f62",
            "a7eb1ce32ae446db8b68de46467dd7e8",
            "4cabda92fd3f4c9682a5ea90f63b84f3",
            "628cc71f72ba46e0a35926d5221f5cab",
            "06206c0b85c74665810ae881ebc59951",
            "af7672f435cc4e92ba344c841c74f9ab",
            "9cd7c0705b77448e93702bfb25b7541e",
            "3fd353d4de474132ae522c852a7efef3",
            "7f7f64b4299f49568004d68ade83d32e",
            "2d5104dcc16b47de8af15989d780a614",
            "07be4d03ce6c4e5e87447e68ecf383d0",
            "c50551af99074dbb99834ab8d4886467",
            "d9cbcc0b57794c0eb3e49eae9f200796",
            "573c027972e7439d914c3fc888d8c346",
            "f06818f5c18d4d86891116a230961400",
            "6c44fdf6380442b4a2027040c87cbcab",
            "5c2582e37c07417bab9b266e6a902856"
          ]
        },
        "id": "4Oq5eA8HFqUt",
        "outputId": "45ba3301-c25f-46d1-8feb-ca6ccbde27ad"
      },
      "outputs": [
        {
          "output_type": "stream",
          "name": "stdout",
          "text": [
            "Getting training set...\n",
            "Downloading http://fashion-mnist.s3-website.eu-central-1.amazonaws.com/train-images-idx3-ubyte.gz\n",
            "Downloading http://fashion-mnist.s3-website.eu-central-1.amazonaws.com/train-images-idx3-ubyte.gz to ./data/FashionMNIST/raw/train-images-idx3-ubyte.gz\n"
          ]
        },
        {
          "output_type": "display_data",
          "data": {
            "text/plain": [
              "  0%|          | 0/26421880 [00:00<?, ?it/s]"
            ],
            "application/vnd.jupyter.widget-view+json": {
              "version_major": 2,
              "version_minor": 0,
              "model_id": "aa9aa42195bc42f883db6407142c7f16"
            }
          },
          "metadata": {}
        },
        {
          "output_type": "stream",
          "name": "stdout",
          "text": [
            "Extracting ./data/FashionMNIST/raw/train-images-idx3-ubyte.gz to ./data/FashionMNIST/raw\n",
            "\n",
            "Downloading http://fashion-mnist.s3-website.eu-central-1.amazonaws.com/train-labels-idx1-ubyte.gz\n",
            "Downloading http://fashion-mnist.s3-website.eu-central-1.amazonaws.com/train-labels-idx1-ubyte.gz to ./data/FashionMNIST/raw/train-labels-idx1-ubyte.gz\n"
          ]
        },
        {
          "output_type": "display_data",
          "data": {
            "text/plain": [
              "  0%|          | 0/29515 [00:00<?, ?it/s]"
            ],
            "application/vnd.jupyter.widget-view+json": {
              "version_major": 2,
              "version_minor": 0,
              "model_id": "92df5101495c4355a883c36d3bcb278d"
            }
          },
          "metadata": {}
        },
        {
          "output_type": "stream",
          "name": "stdout",
          "text": [
            "Extracting ./data/FashionMNIST/raw/train-labels-idx1-ubyte.gz to ./data/FashionMNIST/raw\n",
            "\n",
            "Downloading http://fashion-mnist.s3-website.eu-central-1.amazonaws.com/t10k-images-idx3-ubyte.gz\n",
            "Downloading http://fashion-mnist.s3-website.eu-central-1.amazonaws.com/t10k-images-idx3-ubyte.gz to ./data/FashionMNIST/raw/t10k-images-idx3-ubyte.gz\n"
          ]
        },
        {
          "output_type": "display_data",
          "data": {
            "text/plain": [
              "  0%|          | 0/4422102 [00:00<?, ?it/s]"
            ],
            "application/vnd.jupyter.widget-view+json": {
              "version_major": 2,
              "version_minor": 0,
              "model_id": "e5e466067aca4fa38cd5f19660fc3cb5"
            }
          },
          "metadata": {}
        },
        {
          "output_type": "stream",
          "name": "stdout",
          "text": [
            "Extracting ./data/FashionMNIST/raw/t10k-images-idx3-ubyte.gz to ./data/FashionMNIST/raw\n",
            "\n",
            "Downloading http://fashion-mnist.s3-website.eu-central-1.amazonaws.com/t10k-labels-idx1-ubyte.gz\n",
            "Downloading http://fashion-mnist.s3-website.eu-central-1.amazonaws.com/t10k-labels-idx1-ubyte.gz to ./data/FashionMNIST/raw/t10k-labels-idx1-ubyte.gz\n"
          ]
        },
        {
          "output_type": "display_data",
          "data": {
            "text/plain": [
              "  0%|          | 0/5148 [00:00<?, ?it/s]"
            ],
            "application/vnd.jupyter.widget-view+json": {
              "version_major": 2,
              "version_minor": 0,
              "model_id": "9cd7c0705b77448e93702bfb25b7541e"
            }
          },
          "metadata": {}
        },
        {
          "output_type": "stream",
          "name": "stdout",
          "text": [
            "Extracting ./data/FashionMNIST/raw/t10k-labels-idx1-ubyte.gz to ./data/FashionMNIST/raw\n",
            "\n",
            "Processing...\n",
            "Done!\n",
            "Training set ready.\n",
            "Getting validation set...\n",
            "Test set ready.\n"
          ]
        },
        {
          "output_type": "stream",
          "name": "stderr",
          "text": [
            "/usr/local/lib/python3.9/dist-packages/torchvision/datasets/mnist.py:502: UserWarning: The given NumPy array is not writeable, and PyTorch does not support non-writeable tensors. This means you can write to the underlying (supposedly non-writeable) NumPy array using the tensor. You may want to copy the array to protect its data or make it writeable before converting it to a tensor. This type of warning will be suppressed for the rest of this program. (Triggered internally at  /pytorch/torch/csrc/utils/tensor_numpy.cpp:143.)\n",
            "  return torch.from_numpy(parsed.astype(m[2], copy=False)).view(*s)\n"
          ]
        }
      ],
      "source": [
        "print('Getting training set...')\n",
        "training_dataset = dsets.FashionMNIST('./data',train=True, download=True, transform=transforms.ToTensor())\n",
        "print('Training set ready.')\n",
        "\n",
        "print('Getting validation set...')\n",
        "test_dataset = dsets.FashionMNIST('./data',train=False, download=True, transform=transforms.ToTensor())\n",
        "print('Test set ready.')"
      ]
    },
    {
      "cell_type": "markdown",
      "metadata": {
        "id": "d_syaXrNGdS3"
      },
      "source": [
        "# Checking data"
      ]
    },
    {
      "cell_type": "code",
      "execution_count": 4,
      "metadata": {
        "id": "SQM-e0d3JzeK",
        "colab": {
          "base_uri": "https://localhost:8080/",
          "height": 430
        },
        "outputId": "9ffc2c24-927f-47da-e55d-9f6f74aaf367"
      },
      "outputs": [
        {
          "output_type": "display_data",
          "data": {
            "text/plain": [
              "<Figure size 640x480 with 1 Axes>"
            ],
            "image/png": "[encoded data removed]"
          },
          "metadata": {}
        }
      ],
      "source": [
        "show_data(test_dataset[0])"
      ]
    },
    {
      "cell_type": "code",
      "source": [
        "show_data(test_dataset[1])"
      ],
      "metadata": {
        "colab": {
          "base_uri": "https://localhost:8080/",
          "height": 430
        },
        "id": "5kPP0PAivGDW",
        "outputId": "c5da94be-e691-4904-d537-2cc63fe60576"
      },
      "execution_count": 5,
      "outputs": [
        {
          "output_type": "display_data",
          "data": {
            "text/plain": [
              "<Figure size 640x480 with 1 Axes>"
            ],
            "image/png": "[encoded data removed]"
          },
          "metadata": {}
        }
      ]
    },
    {
      "cell_type": "code",
      "source": [
        "show_data(test_dataset[2])"
      ],
      "metadata": {
        "colab": {
          "base_uri": "https://localhost:8080/",
          "height": 430
        },
        "id": "nfO7N5kXvMMD",
        "outputId": "dbd676f4-3f74-4ee4-8e67-b1572427f725"
      },
      "execution_count": 11,
      "outputs": [
        {
          "output_type": "display_data",
          "data": {
            "text/plain": [
              "<Figure size 640x480 with 1 Axes>"
            ],
            "image/png": "[encoded data removed]"
          },
          "metadata": {}
        }
      ]
    },
    {
      "cell_type": "code",
      "execution_count": 38,
      "metadata": {
        "colab": {
          "base_uri": "https://localhost:8080/"
        },
        "id": "arOeTuQCGc0t",
        "outputId": "31663982-8e64-4c1f-a780-3121e8baed86"
      },
      "outputs": [
        {
          "output_type": "stream",
          "name": "stdout",
          "text": [
            "Type of training_dataset: <class 'torchvision.datasets.mnist.FashionMNIST'>\n",
            "Size of training_dataset: 60000\n",
            "Num of elements in training_dataset:  60000\n",
            "Type of test_dataset: <class 'torchvision.datasets.mnist.FashionMNIST'>\n",
            "Size of test_dataset: 10000\n",
            "Num of elements in test_dataset:  10000\n"
          ]
        }
      ],
      "source": [
        "print (f\"Type of training_dataset: {type(training_dataset)}\")\n",
        "print (f\"Size of training_dataset: {len(training_dataset)}\")\n",
        "print (\"Num of elements in training_dataset: \", len(training_dataset))\n",
        "\n",
        "print (f\"Type of test_dataset: {type(test_dataset)}\")\n",
        "print (f\"Size of test_dataset: {len(test_dataset)}\")\n",
        "print (\"Num of elements in test_dataset: \", len(test_dataset))"
      ]
    },
    {
      "cell_type": "code",
      "execution_count": 39,
      "metadata": {
        "id": "xUJBGPyYIMnl"
      },
      "outputs": [],
      "source": [
        "# Prepare train and validation\n",
        "indices = list(range(len(training_dataset)))\n",
        "np.random.shuffle(indices)\n",
        "\n",
        "# let's split 10% for validation as this is a large dataset\n",
        "split = int(np.floor(len(training_dataset) * 0.9))\n",
        "\n",
        "train_sample = SubsetRandomSampler(indices[:split])\n",
        "valid_sample = SubsetRandomSampler(indices[split:])\n",
        "\n",
        "# Put the data into dataloader\n",
        "batch_size = 100\n",
        "trainloader = torch.utils.data.DataLoader(training_dataset, batch_size = batch_size, sampler = train_sample)\n",
        "validloader = torch.utils.data.DataLoader(training_dataset, batch_size = batch_size, sampler = valid_sample)\n",
        "testloader = torch.utils.data.DataLoader(test_dataset, batch_size=batch_size, shuffle=True)"
      ]
    },
    {
      "cell_type": "markdown",
      "source": [
        "# Building the Model"
      ],
      "metadata": {
        "id": "6q-L3R8zMac7"
      }
    },
    {
      "cell_type": "code",
      "source": [
        "# Define input dimension and output dimensions\n",
        "\n",
        "input_dim = 28 * 28 # image resolution\n",
        "output_dim = 10 # 10 different classes\n",
        "\n",
        "# Create a Softmax classifier for multi-class classification\n",
        "class SoftMax(nn.Module):\n",
        "  def __init__(self, input_size, output_size):\n",
        "    super(SoftMax, self).__init__()\n",
        "\n",
        "    # let's build 1 hidden layers and 1 output layer\n",
        "    self.fc1 = nn.Linear(input_size, 100)\n",
        "    self.fc2 = nn.Linear(100, output_dim)\n",
        "    # We will dropout the neuron computations at 10%\n",
        "    self.dropout = nn.Dropout(0.1)\n",
        "    \n",
        "  # Prediction\n",
        "  def forward(self, x):\n",
        "    x = x.view(x.shape[0],-1)\n",
        "    x = self.dropout(F.relu(self.fc1(x)))\n",
        "\n",
        "    # We will use log_softmax to get likelihood of all output classes\n",
        "    x = F.log_softmax(self.fc2(x), dim=1)\n",
        "    return x"
      ],
      "metadata": {
        "id": "3gTNIg-9MaBa"
      },
      "execution_count": 40,
      "outputs": []
    },
    {
      "cell_type": "markdown",
      "source": [
        "# Training the Model"
      ],
      "metadata": {
        "id": "HZNY9-ocP-Rn"
      }
    },
    {
      "cell_type": "code",
      "source": [
        "# instantiate the model\n",
        "model = SoftMax(input_dim, output_dim)\n",
        "print(\"Model: \", model)\n",
        "print(\"Parameter w \", list(model.parameters())[0].size())\n",
        "print(\"Parameter b \", list(model.parameters())[1].size())\n",
        "\n",
        "# Set the hyperparameters\n",
        "learning_rate = 0.05\n",
        "optimizer = torch.optim.SGD(model.parameters(), lr = learning_rate)\n",
        "criterion = nn.NLLLoss ()\n",
        "n_epochs = 30\n",
        "\n",
        "# We will store the params of the highest performing model\n",
        "best_model_params = model.state_dict()\n",
        "\n",
        "TRAIN_LOSS, VALID_LOSS = [], []\n",
        "ACCURACY_LIST = []\n",
        "\n",
        "def train_model(n_epochs):\n",
        "  highest_accuracy = 0\n",
        "  for epoch in range(n_epochs):\n",
        "    trainloss = 0\n",
        "    validloss = 0\n",
        "    correct = 0\n",
        "\n",
        "    for x, y in trainloader:\n",
        "      optimizer.zero_grad()\n",
        "      z = model(x)\n",
        "      loss = criterion(z, y)\n",
        "      loss.backward()\n",
        "      optimizer.step()\n",
        "      trainloss += loss.item() * x.size(0)\n",
        "\n",
        "    for x_test, y_test in validloader:\n",
        "      z = model(x_test)\n",
        "      loss = criterion(z, y_test)\n",
        "      validloss += loss.item() * x_test.size(0)\n",
        "    \n",
        "    # average train and validation loss at each epoch\n",
        "    trainloss = trainloss/len(trainloader.sampler)\n",
        "    validloss = validloss/len(validloader.sampler)\n",
        "    TRAIN_LOSS.append(trainloss)\n",
        "    VALID_LOSS.append(validloss)\n",
        "\n",
        "    # finding accuracy at test dataset\n",
        "    for x_test, y_test in testloader:\n",
        "      z = model(x_test)\n",
        "      _, yhat = torch.max(z.data, 1)\n",
        "      correct += (yhat == y_test).sum().item()\n",
        "    accuracy = correct / len(testloader.sampler)\n",
        "    \n",
        "    # We want to keep the parameters of the highest performing model state\n",
        "    if accuracy > highest_accuracy:\n",
        "      best_model_params = model.state_dict()\n",
        "      highest_accuracy = accuracy\n",
        "\n",
        "    ACCURACY_LIST.append(accuracy)\n",
        "\n",
        "    print ('Epoch: ', epoch,\n",
        "           '\\nTraining Loss: ', trainloss,\n",
        "           '\\nValidation Loss: ', validloss,\n",
        "           '\\nAccuracy: ', accuracy,\n",
        "           '\\n----------------------------------\\n')"
      ],
      "metadata": {
        "colab": {
          "base_uri": "https://localhost:8080/"
        },
        "id": "CeFrKYq5Pp0R",
        "outputId": "b85e2ceb-d848-40f0-ce7f-e0025023121c"
      },
      "execution_count": 49,
      "outputs": [
        {
          "output_type": "stream",
          "name": "stdout",
          "text": [
            "Model:  SoftMax(\n",
            "  (fc1): Linear(in_features=784, out_features=100, bias=True)\n",
            "  (fc2): Linear(in_features=100, out_features=10, bias=True)\n",
            "  (dropout): Dropout(p=0.1, inplace=False)\n",
            ")\n",
            "Parameter w  torch.Size([100, 784])\n",
            "Parameter b  torch.Size([100])\n"
          ]
        }
      ]
    },
    {
      "cell_type": "code",
      "source": [
        "# Let's train the model\n",
        "train_model(n_epochs)"
      ],
      "metadata": {
        "colab": {
          "base_uri": "https://localhost:8080/"
        },
        "id": "qXXmJeeOVjpB",
        "outputId": "794c3a6e-f2a8-48a2-b558-6c1ef6d92127"
      },
      "execution_count": 50,
      "outputs": [
        {
          "output_type": "stream",
          "name": "stdout",
          "text": [
            "Epoch:  0 \n",
            "Training Loss:  0.8490258222376859 \n",
            "Validation Loss:  0.6017919763922691 \n",
            "Accuracy:  0.7879 \n",
            "----------------------------------\n",
            "\n",
            "Epoch:  1 \n",
            "Training Loss:  0.5456530451774597 \n",
            "Validation Loss:  0.5156898195544879 \n",
            "Accuracy:  0.8161 \n",
            "----------------------------------\n",
            "\n",
            "Epoch:  2 \n",
            "Training Loss:  0.4898672060282142 \n",
            "Validation Loss:  0.49135483205318453 \n",
            "Accuracy:  0.8233 \n",
            "----------------------------------\n",
            "\n",
            "Epoch:  3 \n",
            "Training Loss:  0.4565021112561226 \n",
            "Validation Loss:  0.4536168242494265 \n",
            "Accuracy:  0.8336 \n",
            "----------------------------------\n",
            "\n",
            "Epoch:  4 \n",
            "Training Loss:  0.43392632004839404 \n",
            "Validation Loss:  0.44510239164034526 \n",
            "Accuracy:  0.8379 \n",
            "----------------------------------\n",
            "\n",
            "Epoch:  5 \n",
            "Training Loss:  0.41401643584723824 \n",
            "Validation Loss:  0.42759049087762835 \n",
            "Accuracy:  0.8455 \n",
            "----------------------------------\n",
            "\n",
            "Epoch:  6 \n",
            "Training Loss:  0.3995281572971079 \n",
            "Validation Loss:  0.42559201021989185 \n",
            "Accuracy:  0.8396 \n",
            "----------------------------------\n",
            "\n",
            "Epoch:  7 \n",
            "Training Loss:  0.38964057142535846 \n",
            "Validation Loss:  0.4067421394089858 \n",
            "Accuracy:  0.8495 \n",
            "----------------------------------\n",
            "\n",
            "Epoch:  8 \n",
            "Training Loss:  0.3773321286395744 \n",
            "Validation Loss:  0.40845736463864646 \n",
            "Accuracy:  0.8487 \n",
            "----------------------------------\n",
            "\n",
            "Epoch:  9 \n",
            "Training Loss:  0.3697372650658643 \n",
            "Validation Loss:  0.39689865286151566 \n",
            "Accuracy:  0.8521 \n",
            "----------------------------------\n",
            "\n",
            "Epoch:  10 \n",
            "Training Loss:  0.361891189907436 \n",
            "Validation Loss:  0.3941011036435763 \n",
            "Accuracy:  0.8528 \n",
            "----------------------------------\n",
            "\n",
            "Epoch:  11 \n",
            "Training Loss:  0.3538952813932189 \n",
            "Validation Loss:  0.3877929093937079 \n",
            "Accuracy:  0.8588 \n",
            "----------------------------------\n",
            "\n",
            "Epoch:  12 \n",
            "Training Loss:  0.34841637760400773 \n",
            "Validation Loss:  0.3779000406463941 \n",
            "Accuracy:  0.8586 \n",
            "----------------------------------\n",
            "\n",
            "Epoch:  13 \n",
            "Training Loss:  0.3411493551399973 \n",
            "Validation Loss:  0.3813158243894577 \n",
            "Accuracy:  0.8621 \n",
            "----------------------------------\n",
            "\n",
            "Epoch:  14 \n",
            "Training Loss:  0.3363292074037923 \n",
            "Validation Loss:  0.3741903198262056 \n",
            "Accuracy:  0.8617 \n",
            "----------------------------------\n",
            "\n",
            "Epoch:  15 \n",
            "Training Loss:  0.33167910007414997 \n",
            "Validation Loss:  0.3720606990158558 \n",
            "Accuracy:  0.8615 \n",
            "----------------------------------\n",
            "\n",
            "Epoch:  16 \n",
            "Training Loss:  0.32682776473186637 \n",
            "Validation Loss:  0.3675450824201107 \n",
            "Accuracy:  0.8678 \n",
            "----------------------------------\n",
            "\n",
            "Epoch:  17 \n",
            "Training Loss:  0.3212030717344196 \n",
            "Validation Loss:  0.3641882953544458 \n",
            "Accuracy:  0.8632 \n",
            "----------------------------------\n",
            "\n",
            "Epoch:  18 \n",
            "Training Loss:  0.3190722106231583 \n",
            "Validation Loss:  0.36865600471695265 \n",
            "Accuracy:  0.8655 \n",
            "----------------------------------\n",
            "\n",
            "Epoch:  19 \n",
            "Training Loss:  0.31424124105661005 \n",
            "Validation Loss:  0.3621800181766351 \n",
            "Accuracy:  0.8703 \n",
            "----------------------------------\n",
            "\n",
            "Epoch:  20 \n",
            "Training Loss:  0.3101796861048098 \n",
            "Validation Loss:  0.3684833198785782 \n",
            "Accuracy:  0.8651 \n",
            "----------------------------------\n",
            "\n",
            "Epoch:  21 \n",
            "Training Loss:  0.30802631336781716 \n",
            "Validation Loss:  0.34918202956517536 \n",
            "Accuracy:  0.8685 \n",
            "----------------------------------\n",
            "\n",
            "Epoch:  22 \n",
            "Training Loss:  0.3034989075804198 \n",
            "Validation Loss:  0.3632302937408288 \n",
            "Accuracy:  0.8657 \n",
            "----------------------------------\n",
            "\n",
            "Epoch:  23 \n",
            "Training Loss:  0.29941816465170296 \n",
            "Validation Loss:  0.3583215042948723 \n",
            "Accuracy:  0.8693 \n",
            "----------------------------------\n",
            "\n",
            "Epoch:  24 \n",
            "Training Loss:  0.2962740853704788 \n",
            "Validation Loss:  0.35121655886371933 \n",
            "Accuracy:  0.8703 \n",
            "----------------------------------\n",
            "\n",
            "Epoch:  25 \n",
            "Training Loss:  0.2946558218035433 \n",
            "Validation Loss:  0.35059721072514854 \n",
            "Accuracy:  0.8695 \n",
            "----------------------------------\n",
            "\n",
            "Epoch:  26 \n",
            "Training Loss:  0.2909688528213236 \n",
            "Validation Loss:  0.3598106689751148 \n",
            "Accuracy:  0.8716 \n",
            "----------------------------------\n",
            "\n",
            "Epoch:  27 \n",
            "Training Loss:  0.2874992867862737 \n",
            "Validation Loss:  0.346350134909153 \n",
            "Accuracy:  0.8701 \n",
            "----------------------------------\n",
            "\n",
            "Epoch:  28 \n",
            "Training Loss:  0.2856168754260849 \n",
            "Validation Loss:  0.3483640022575855 \n",
            "Accuracy:  0.8679 \n",
            "----------------------------------\n",
            "\n",
            "Epoch:  29 \n",
            "Training Loss:  0.28261124055694653 \n",
            "Validation Loss:  0.346896950652202 \n",
            "Accuracy:  0.8712 \n",
            "----------------------------------\n",
            "\n"
          ]
        }
      ]
    },
    {
      "cell_type": "code",
      "source": [
        "plt.plot(TRAIN_LOSS, label='Training Loss')\n",
        "plt.plot(VALID_LOSS, label='Validation Loss')\n",
        "plt.xlabel('Epoch')\n",
        "plt.ylabel('LOSS')\n",
        "plt.legend()\n",
        "plt.show()"
      ],
      "metadata": {
        "colab": {
          "base_uri": "https://localhost:8080/",
          "height": 449
        },
        "id": "LDK01dxGYYj2",
        "outputId": "369fd153-9840-4bc2-f941-fa3fe9d4b547"
      },
      "execution_count": 51,
      "outputs": [
        {
          "output_type": "display_data",
          "data": {
            "text/plain": [
              "<Figure size 640x480 with 1 Axes>"
            ],
            "image/png": "[encoded data removed]"
          },
          "metadata": {}
        }
      ]
    },
    {
      "cell_type": "code",
      "source": [
        "print (\"Final Test Accuracy: \", ACCURACY_LIST[-1]*100,'%')\n",
        "plt.plot(ACCURACY_LIST, label='Test Accuracy')\n",
        "plt.xlabel('Epoch')\n",
        "plt.ylabel('Accuracy on Test Data')\n",
        "plt.legend()\n",
        "plt.show()"
      ],
      "metadata": {
        "colab": {
          "base_uri": "https://localhost:8080/",
          "height": 466
        },
        "id": "sc2ghIjXgCDM",
        "outputId": "f2537c49-af85-4e88-d0c2-bf6a5c67a570"
      },
      "execution_count": 53,
      "outputs": [
        {
          "output_type": "stream",
          "name": "stdout",
          "text": [
            "Final Test Accuracy:  87.12 %\n"
          ]
        },
        {
          "output_type": "display_data",
          "data": {
            "text/plain": [
              "<Figure size 640x480 with 1 Axes>"
            ],
            "image/png": "[encoded data removed]"
          },
          "metadata": {}
        }
      ]
    },
    {
      "cell_type": "code",
      "source": [],
      "metadata": {
        "id": "IyIsri4uWV8I"
      },
      "execution_count": null,
      "outputs": []
    }
  ],
  "metadata": {
    "colab": {
      "provenance": []
    },
    "kernelspec": {
      "display_name": "Python 3",
      "name": "python3"
    },
    "language_info": {
      "name": "python"
    },
    "accelerator": "GPU",
    "gpuClass": "standard",
    "widgets": {
      "application/vnd.jupyter.widget-state+json": {
        "aa9aa42195bc42f883db6407142c7f16": {
          "model_module": "@jupyter-widgets/controls",
          "model_name": "HBoxModel",
          "model_module_version": "1.5.0",
          "state": {
            "_dom_classes": [],
            "_model_module": "@jupyter-widgets/controls",
            "_model_module_version": "1.5.0",
            "_model_name": "HBoxModel",
            "_view_count": null,
            "_view_module": "@jupyter-widgets/controls",
            "_view_module_version": "1.5.0",
            "_view_name": "HBoxView",
            "box_style": "",
            "children": [
              "IPY_MODEL_2003097232454456b34cd15561af03cb",
              "IPY_MODEL_66059da703bd42d0bdc62378eca6a7eb",
              "IPY_MODEL_629ac114fa9e42a0b51bab50838df3fb"
            ],
            "layout": "IPY_MODEL_4505e618692041f897be5a5b8774ed43"
          }
        },
        "2003097232454456b34cd15561af03cb": {
          "model_module": "@jupyter-widgets/controls",
          "model_name": "HTMLModel",
          "model_module_version": "1.5.0",
          "state": {
            "_dom_classes": [],
            "_model_module": "@jupyter-widgets/controls",
            "_model_module_version": "1.5.0",
            "_model_name": "HTMLModel",
            "_view_count": null,
            "_view_module": "@jupyter-widgets/controls",
            "_view_module_version": "1.5.0",
            "_view_name": "HTMLView",
            "description": "",
            "description_tooltip": null,
            "layout": "IPY_MODEL_16a89b1d147e470e9731f996d3b7a12c",
            "placeholder": "​",
            "style": "IPY_MODEL_02987a3343424e6a9e48f73005b24d9f",
            "value": ""
          }
        },
        "66059da703bd42d0bdc62378eca6a7eb": {
          "model_module": "@jupyter-widgets/controls",
          "model_name": "FloatProgressModel",
          "model_module_version": "1.5.0",
          "state": {
            "_dom_classes": [],
            "_model_module": "@jupyter-widgets/controls",
            "_model_module_version": "1.5.0",
            "_model_name": "FloatProgressModel",
            "_view_count": null,
            "_view_module": "@jupyter-widgets/controls",
            "_view_module_version": "1.5.0",
            "_view_name": "ProgressView",
            "bar_style": "success",
            "description": "",
            "description_tooltip": null,
            "layout": "IPY_MODEL_290e3adb12a04dc3bb6d795cbd0fe50e",
            "max": 26421880,
            "min": 0,
            "orientation": "horizontal",
            "style": "IPY_MODEL_6018ad07f9e74eb09a6738945ede0365",
            "value": 26421880
          }
        },
        "629ac114fa9e42a0b51bab50838df3fb": {
          "model_module": "@jupyter-widgets/controls",
          "model_name": "HTMLModel",
          "model_module_version": "1.5.0",
          "state": {
            "_dom_classes": [],
            "_model_module": "@jupyter-widgets/controls",
            "_model_module_version": "1.5.0",
            "_model_name": "HTMLModel",
            "_view_count": null,
            "_view_module": "@jupyter-widgets/controls",
            "_view_module_version": "1.5.0",
            "_view_name": "HTMLView",
            "description": "",
            "description_tooltip": null,
            "layout": "IPY_MODEL_83c0c8cfe34e403caddc0001f4664adc",
            "placeholder": "​",
            "style": "IPY_MODEL_83953a9e955048e9bc5121ae277956c8",
            "value": " 26422272/? [00:03&lt;00:00, 11646230.23it/s]"
          }
        },
        "4505e618692041f897be5a5b8774ed43": {
          "model_module": "@jupyter-widgets/base",
          "model_name": "LayoutModel",
          "model_module_version": "1.2.0",
          "state": {
            "_model_module": "@jupyter-widgets/base",
            "_model_module_version": "1.2.0",
            "_model_name": "LayoutModel",
            "_view_count": null,
            "_view_module": "@jupyter-widgets/base",
            "_view_module_version": "1.2.0",
            "_view_name": "LayoutView",
            "align_content": null,
            "align_items": null,
            "align_self": null,
            "border": null,
            "bottom": null,
            "display": null,
            "flex": null,
            "flex_flow": null,
            "grid_area": null,
            "grid_auto_columns": null,
            "grid_auto_flow": null,
            "grid_auto_rows": null,
            "grid_column": null,
            "grid_gap": null,
            "grid_row": null,
            "grid_template_areas": null,
            "grid_template_columns": null,
            "grid_template_rows": null,
            "height": null,
            "justify_content": null,
            "justify_items": null,
            "left": null,
            "margin": null,
            "max_height": null,
            "max_width": null,
            "min_height": null,
            "min_width": null,
            "object_fit": null,
            "object_position": null,
            "order": null,
            "overflow": null,
            "overflow_x": null,
            "overflow_y": null,
            "padding": null,
            "right": null,
            "top": null,
            "visibility": null,
            "width": null
          }
        },
        "16a89b1d147e470e9731f996d3b7a12c": {
          "model_module": "@jupyter-widgets/base",
          "model_name": "LayoutModel",
          "model_module_version": "1.2.0",
          "state": {
            "_model_module": "@jupyter-widgets/base",
            "_model_module_version": "1.2.0",
            "_model_name": "LayoutModel",
            "_view_count": null,
            "_view_module": "@jupyter-widgets/base",
            "_view_module_version": "1.2.0",
            "_view_name": "LayoutView",
            "align_content": null,
            "align_items": null,
            "align_self": null,
            "border": null,
            "bottom": null,
            "display": null,
            "flex": null,
            "flex_flow": null,
            "grid_area": null,
            "grid_auto_columns": null,
            "grid_auto_flow": null,
            "grid_auto_rows": null,
            "grid_column": null,
            "grid_gap": null,
            "grid_row": null,
            "grid_template_areas": null,
            "grid_template_columns": null,
            "grid_template_rows": null,
            "height": null,
            "justify_content": null,
            "justify_items": null,
            "left": null,
            "margin": null,
            "max_height": null,
            "max_width": null,
            "min_height": null,
            "min_width": null,
            "object_fit": null,
            "object_position": null,
            "order": null,
            "overflow": null,
            "overflow_x": null,
            "overflow_y": null,
            "padding": null,
            "right": null,
            "top": null,
            "visibility": null,
            "width": null
          }
        },
        "02987a3343424e6a9e48f73005b24d9f": {
          "model_module": "@jupyter-widgets/controls",
          "model_name": "DescriptionStyleModel",
          "model_module_version": "1.5.0",
          "state": {
            "_model_module": "@jupyter-widgets/controls",
            "_model_module_version": "1.5.0",
            "_model_name": "DescriptionStyleModel",
            "_view_count": null,
            "_view_module": "@jupyter-widgets/base",
            "_view_module_version": "1.2.0",
            "_view_name": "StyleView",
            "description_width": ""
          }
        },
        "290e3adb12a04dc3bb6d795cbd0fe50e": {
          "model_module": "@jupyter-widgets/base",
          "model_name": "LayoutModel",
          "model_module_version": "1.2.0",
          "state": {
            "_model_module": "@jupyter-widgets/base",
            "_model_module_version": "1.2.0",
            "_model_name": "LayoutModel",
            "_view_count": null,
            "_view_module": "@jupyter-widgets/base",
            "_view_module_version": "1.2.0",
            "_view_name": "LayoutView",
            "align_content": null,
            "align_items": null,
            "align_self": null,
            "border": null,
            "bottom": null,
            "display": null,
            "flex": null,
            "flex_flow": null,
            "grid_area": null,
            "grid_auto_columns": null,
            "grid_auto_flow": null,
            "grid_auto_rows": null,
            "grid_column": null,
            "grid_gap": null,
            "grid_row": null,
            "grid_template_areas": null,
            "grid_template_columns": null,
            "grid_template_rows": null,
            "height": null,
            "justify_content": null,
            "justify_items": null,
            "left": null,
            "margin": null,
            "max_height": null,
            "max_width": null,
            "min_height": null,
            "min_width": null,
            "object_fit": null,
            "object_position": null,
            "order": null,
            "overflow": null,
            "overflow_x": null,
            "overflow_y": null,
            "padding": null,
            "right": null,
            "top": null,
            "visibility": null,
            "width": null
          }
        },
        "6018ad07f9e74eb09a6738945ede0365": {
          "model_module": "@jupyter-widgets/controls",
          "model_name": "ProgressStyleModel",
          "model_module_version": "1.5.0",
          "state": {
            "_model_module": "@jupyter-widgets/controls",
            "_model_module_version": "1.5.0",
            "_model_name": "ProgressStyleModel",
            "_view_count": null,
            "_view_module": "@jupyter-widgets/base",
            "_view_module_version": "1.2.0",
            "_view_name": "StyleView",
            "bar_color": null,
            "description_width": ""
          }
        },
        "83c0c8cfe34e403caddc0001f4664adc": {
          "model_module": "@jupyter-widgets/base",
          "model_name": "LayoutModel",
          "model_module_version": "1.2.0",
          "state": {
            "_model_module": "@jupyter-widgets/base",
            "_model_module_version": "1.2.0",
            "_model_name": "LayoutModel",
            "_view_count": null,
            "_view_module": "@jupyter-widgets/base",
            "_view_module_version": "1.2.0",
            "_view_name": "LayoutView",
            "align_content": null,
            "align_items": null,
            "align_self": null,
            "border": null,
            "bottom": null,
            "display": null,
            "flex": null,
            "flex_flow": null,
            "grid_area": null,
            "grid_auto_columns": null,
            "grid_auto_flow": null,
            "grid_auto_rows": null,
            "grid_column": null,
            "grid_gap": null,
            "grid_row": null,
            "grid_template_areas": null,
            "grid_template_columns": null,
            "grid_template_rows": null,
            "height": null,
            "justify_content": null,
            "justify_items": null,
            "left": null,
            "margin": null,
            "max_height": null,
            "max_width": null,
            "min_height": null,
            "min_width": null,
            "object_fit": null,
            "object_position": null,
            "order": null,
            "overflow": null,
            "overflow_x": null,
            "overflow_y": null,
            "padding": null,
            "right": null,
            "top": null,
            "visibility": null,
            "width": null
          }
        },
        "83953a9e955048e9bc5121ae277956c8": {
          "model_module": "@jupyter-widgets/controls",
          "model_name": "DescriptionStyleModel",
          "model_module_version": "1.5.0",
          "state": {
            "_model_module": "@jupyter-widgets/controls",
            "_model_module_version": "1.5.0",
            "_model_name": "DescriptionStyleModel",
            "_view_count": null,
            "_view_module": "@jupyter-widgets/base",
            "_view_module_version": "1.2.0",
            "_view_name": "StyleView",
            "description_width": ""
          }
        },
        "92df5101495c4355a883c36d3bcb278d": {
          "model_module": "@jupyter-widgets/controls",
          "model_name": "HBoxModel",
          "model_module_version": "1.5.0",
          "state": {
            "_dom_classes": [],
            "_model_module": "@jupyter-widgets/controls",
            "_model_module_version": "1.5.0",
            "_model_name": "HBoxModel",
            "_view_count": null,
            "_view_module": "@jupyter-widgets/controls",
            "_view_module_version": "1.5.0",
            "_view_name": "HBoxView",
            "box_style": "",
            "children": [
              "IPY_MODEL_70c18d0821304af28a2ee42fb65765e0",
              "IPY_MODEL_3b86c2d9de1c446dbf42b9d51972e90d",
              "IPY_MODEL_d20366551d0d4bec8125e8d23226b3d9"
            ],
            "layout": "IPY_MODEL_8a0fa95fe644465d961409a53f34fdca"
          }
        },
        "70c18d0821304af28a2ee42fb65765e0": {
          "model_module": "@jupyter-widgets/controls",
          "model_name": "HTMLModel",
          "model_module_version": "1.5.0",
          "state": {
            "_dom_classes": [],
            "_model_module": "@jupyter-widgets/controls",
            "_model_module_version": "1.5.0",
            "_model_name": "HTMLModel",
            "_view_count": null,
            "_view_module": "@jupyter-widgets/controls",
            "_view_module_version": "1.5.0",
            "_view_name": "HTMLView",
            "description": "",
            "description_tooltip": null,
            "layout": "IPY_MODEL_1bedc012754a4c6e8bf0267c0f2e5dd1",
            "placeholder": "​",
            "style": "IPY_MODEL_e320d2468ca04029be7ba42072a442e2",
            "value": ""
          }
        },
        "3b86c2d9de1c446dbf42b9d51972e90d": {
          "model_module": "@jupyter-widgets/controls",
          "model_name": "FloatProgressModel",
          "model_module_version": "1.5.0",
          "state": {
            "_dom_classes": [],
            "_model_module": "@jupyter-widgets/controls",
            "_model_module_version": "1.5.0",
            "_model_name": "FloatProgressModel",
            "_view_count": null,
            "_view_module": "@jupyter-widgets/controls",
            "_view_module_version": "1.5.0",
            "_view_name": "ProgressView",
            "bar_style": "success",
            "description": "",
            "description_tooltip": null,
            "layout": "IPY_MODEL_043d2c452afb471d9e5a583082ff51dd",
            "max": 29515,
            "min": 0,
            "orientation": "horizontal",
            "style": "IPY_MODEL_33cceb0d879b420791b830e15a5580e4",
            "value": 29515
          }
        },
        "d20366551d0d4bec8125e8d23226b3d9": {
          "model_module": "@jupyter-widgets/controls",
          "model_name": "HTMLModel",
          "model_module_version": "1.5.0",
          "state": {
            "_dom_classes": [],
            "_model_module": "@jupyter-widgets/controls",
            "_model_module_version": "1.5.0",
            "_model_name": "HTMLModel",
            "_view_count": null,
            "_view_module": "@jupyter-widgets/controls",
            "_view_module_version": "1.5.0",
            "_view_name": "HTMLView",
            "description": "",
            "description_tooltip": null,
            "layout": "IPY_MODEL_5f1c6f1114194de09b31bd2d771dc286",
            "placeholder": "​",
            "style": "IPY_MODEL_ac1a1841a3874fe78f111d20a6dd3da2",
            "value": " 29696/? [00:00&lt;00:00, 60868.06it/s]"
          }
        },
        "8a0fa95fe644465d961409a53f34fdca": {
          "model_module": "@jupyter-widgets/base",
          "model_name": "LayoutModel",
          "model_module_version": "1.2.0",
          "state": {
            "_model_module": "@jupyter-widgets/base",
            "_model_module_version": "1.2.0",
            "_model_name": "LayoutModel",
            "_view_count": null,
            "_view_module": "@jupyter-widgets/base",
            "_view_module_version": "1.2.0",
            "_view_name": "LayoutView",
            "align_content": null,
            "align_items": null,
            "align_self": null,
            "border": null,
            "bottom": null,
            "display": null,
            "flex": null,
            "flex_flow": null,
            "grid_area": null,
            "grid_auto_columns": null,
            "grid_auto_flow": null,
            "grid_auto_rows": null,
            "grid_column": null,
            "grid_gap": null,
            "grid_row": null,
            "grid_template_areas": null,
            "grid_template_columns": null,
            "grid_template_rows": null,
            "height": null,
            "justify_content": null,
            "justify_items": null,
            "left": null,
            "margin": null,
            "max_height": null,
            "max_width": null,
            "min_height": null,
            "min_width": null,
            "object_fit": null,
            "object_position": null,
            "order": null,
            "overflow": null,
            "overflow_x": null,
            "overflow_y": null,
            "padding": null,
            "right": null,
            "top": null,
            "visibility": null,
            "width": null
          }
        },
        "1bedc012754a4c6e8bf0267c0f2e5dd1": {
          "model_module": "@jupyter-widgets/base",
          "model_name": "LayoutModel",
          "model_module_version": "1.2.0",
          "state": {
            "_model_module": "@jupyter-widgets/base",
            "_model_module_version": "1.2.0",
            "_model_name": "LayoutModel",
            "_view_count": null,
            "_view_module": "@jupyter-widgets/base",
            "_view_module_version": "1.2.0",
            "_view_name": "LayoutView",
            "align_content": null,
            "align_items": null,
            "align_self": null,
            "border": null,
            "bottom": null,
            "display": null,
            "flex": null,
            "flex_flow": null,
            "grid_area": null,
            "grid_auto_columns": null,
            "grid_auto_flow": null,
            "grid_auto_rows": null,
            "grid_column": null,
            "grid_gap": null,
            "grid_row": null,
            "grid_template_areas": null,
            "grid_template_columns": null,
            "grid_template_rows": null,
            "height": null,
            "justify_content": null,
            "justify_items": null,
            "left": null,
            "margin": null,
            "max_height": null,
            "max_width": null,
            "min_height": null,
            "min_width": null,
            "object_fit": null,
            "object_position": null,
            "order": null,
            "overflow": null,
            "overflow_x": null,
            "overflow_y": null,
            "padding": null,
            "right": null,
            "top": null,
            "visibility": null,
            "width": null
          }
        },
        "e320d2468ca04029be7ba42072a442e2": {
          "model_module": "@jupyter-widgets/controls",
          "model_name": "DescriptionStyleModel",
          "model_module_version": "1.5.0",
          "state": {
            "_model_module": "@jupyter-widgets/controls",
            "_model_module_version": "1.5.0",
            "_model_name": "DescriptionStyleModel",
            "_view_count": null,
            "_view_module": "@jupyter-widgets/base",
            "_view_module_version": "1.2.0",
            "_view_name": "StyleView",
            "description_width": ""
          }
        },
        "043d2c452afb471d9e5a583082ff51dd": {
          "model_module": "@jupyter-widgets/base",
          "model_name": "LayoutModel",
          "model_module_version": "1.2.0",
          "state": {
            "_model_module": "@jupyter-widgets/base",
            "_model_module_version": "1.2.0",
            "_model_name": "LayoutModel",
            "_view_count": null,
            "_view_module": "@jupyter-widgets/base",
            "_view_module_version": "1.2.0",
            "_view_name": "LayoutView",
            "align_content": null,
            "align_items": null,
            "align_self": null,
            "border": null,
            "bottom": null,
            "display": null,
            "flex": null,
            "flex_flow": null,
            "grid_area": null,
            "grid_auto_columns": null,
            "grid_auto_flow": null,
            "grid_auto_rows": null,
            "grid_column": null,
            "grid_gap": null,
            "grid_row": null,
            "grid_template_areas": null,
            "grid_template_columns": null,
            "grid_template_rows": null,
            "height": null,
            "justify_content": null,
            "justify_items": null,
            "left": null,
            "margin": null,
            "max_height": null,
            "max_width": null,
            "min_height": null,
            "min_width": null,
            "object_fit": null,
            "object_position": null,
            "order": null,
            "overflow": null,
            "overflow_x": null,
            "overflow_y": null,
            "padding": null,
            "right": null,
            "top": null,
            "visibility": null,
            "width": null
          }
        },
        "33cceb0d879b420791b830e15a5580e4": {
          "model_module": "@jupyter-widgets/controls",
          "model_name": "ProgressStyleModel",
          "model_module_version": "1.5.0",
          "state": {
            "_model_module": "@jupyter-widgets/controls",
            "_model_module_version": "1.5.0",
            "_model_name": "ProgressStyleModel",
            "_view_count": null,
            "_view_module": "@jupyter-widgets/base",
            "_view_module_version": "1.2.0",
            "_view_name": "StyleView",
            "bar_color": null,
            "description_width": ""
          }
        },
        "5f1c6f1114194de09b31bd2d771dc286": {
          "model_module": "@jupyter-widgets/base",
          "model_name": "LayoutModel",
          "model_module_version": "1.2.0",
          "state": {
            "_model_module": "@jupyter-widgets/base",
            "_model_module_version": "1.2.0",
            "_model_name": "LayoutModel",
            "_view_count": null,
            "_view_module": "@jupyter-widgets/base",
            "_view_module_version": "1.2.0",
            "_view_name": "LayoutView",
            "align_content": null,
            "align_items": null,
            "align_self": null,
            "border": null,
            "bottom": null,
            "display": null,
            "flex": null,
            "flex_flow": null,
            "grid_area": null,
            "grid_auto_columns": null,
            "grid_auto_flow": null,
            "grid_auto_rows": null,
            "grid_column": null,
            "grid_gap": null,
            "grid_row": null,
            "grid_template_areas": null,
            "grid_template_columns": null,
            "grid_template_rows": null,
            "height": null,
            "justify_content": null,
            "justify_items": null,
            "left": null,
            "margin": null,
            "max_height": null,
            "max_width": null,
            "min_height": null,
            "min_width": null,
            "object_fit": null,
            "object_position": null,
            "order": null,
            "overflow": null,
            "overflow_x": null,
            "overflow_y": null,
            "padding": null,
            "right": null,
            "top": null,
            "visibility": null,
            "width": null
          }
        },
        "ac1a1841a3874fe78f111d20a6dd3da2": {
          "model_module": "@jupyter-widgets/controls",
          "model_name": "DescriptionStyleModel",
          "model_module_version": "1.5.0",
          "state": {
            "_model_module": "@jupyter-widgets/controls",
            "_model_module_version": "1.5.0",
            "_model_name": "DescriptionStyleModel",
            "_view_count": null,
            "_view_module": "@jupyter-widgets/base",
            "_view_module_version": "1.2.0",
            "_view_name": "StyleView",
            "description_width": ""
          }
        },
        "e5e466067aca4fa38cd5f19660fc3cb5": {
          "model_module": "@jupyter-widgets/controls",
          "model_name": "HBoxModel",
          "model_module_version": "1.5.0",
          "state": {
            "_dom_classes": [],
            "_model_module": "@jupyter-widgets/controls",
            "_model_module_version": "1.5.0",
            "_model_name": "HBoxModel",
            "_view_count": null,
            "_view_module": "@jupyter-widgets/controls",
            "_view_module_version": "1.5.0",
            "_view_name": "HBoxView",
            "box_style": "",
            "children": [
              "IPY_MODEL_8039417c77e04adb8f7e3196630ff077",
              "IPY_MODEL_9ed7256dba084fa88e7496538499b28b",
              "IPY_MODEL_ec6fa1ebeace45c0ad809ca9c5b86571"
            ],
            "layout": "IPY_MODEL_3d5e3b641a7841a6af60fd9acf1434fa"
          }
        },
        "8039417c77e04adb8f7e3196630ff077": {
          "model_module": "@jupyter-widgets/controls",
          "model_name": "HTMLModel",
          "model_module_version": "1.5.0",
          "state": {
            "_dom_classes": [],
            "_model_module": "@jupyter-widgets/controls",
            "_model_module_version": "1.5.0",
            "_model_name": "HTMLModel",
            "_view_count": null,
            "_view_module": "@jupyter-widgets/controls",
            "_view_module_version": "1.5.0",
            "_view_name": "HTMLView",
            "description": "",
            "description_tooltip": null,
            "layout": "IPY_MODEL_bd5408c16df846849dd62e6082451f62",
            "placeholder": "​",
            "style": "IPY_MODEL_a7eb1ce32ae446db8b68de46467dd7e8",
            "value": ""
          }
        },
        "9ed7256dba084fa88e7496538499b28b": {
          "model_module": "@jupyter-widgets/controls",
          "model_name": "FloatProgressModel",
          "model_module_version": "1.5.0",
          "state": {
            "_dom_classes": [],
            "_model_module": "@jupyter-widgets/controls",
            "_model_module_version": "1.5.0",
            "_model_name": "FloatProgressModel",
            "_view_count": null,
            "_view_module": "@jupyter-widgets/controls",
            "_view_module_version": "1.5.0",
            "_view_name": "ProgressView",
            "bar_style": "success",
            "description": "",
            "description_tooltip": null,
            "layout": "IPY_MODEL_4cabda92fd3f4c9682a5ea90f63b84f3",
            "max": 4422102,
            "min": 0,
            "orientation": "horizontal",
            "style": "IPY_MODEL_628cc71f72ba46e0a35926d5221f5cab",
            "value": 4422102
          }
        },
        "ec6fa1ebeace45c0ad809ca9c5b86571": {
          "model_module": "@jupyter-widgets/controls",
          "model_name": "HTMLModel",
          "model_module_version": "1.5.0",
          "state": {
            "_dom_classes": [],
            "_model_module": "@jupyter-widgets/controls",
            "_model_module_version": "1.5.0",
            "_model_name": "HTMLModel",
            "_view_count": null,
            "_view_module": "@jupyter-widgets/controls",
            "_view_module_version": "1.5.0",
            "_view_name": "HTMLView",
            "description": "",
            "description_tooltip": null,
            "layout": "IPY_MODEL_06206c0b85c74665810ae881ebc59951",
            "placeholder": "​",
            "style": "IPY_MODEL_af7672f435cc4e92ba344c841c74f9ab",
            "value": " 4422656/? [00:01&lt;00:00, 4426877.10it/s]"
          }
        },
        "3d5e3b641a7841a6af60fd9acf1434fa": {
          "model_module": "@jupyter-widgets/base",
          "model_name": "LayoutModel",
          "model_module_version": "1.2.0",
          "state": {
            "_model_module": "@jupyter-widgets/base",
            "_model_module_version": "1.2.0",
            "_model_name": "LayoutModel",
            "_view_count": null,
            "_view_module": "@jupyter-widgets/base",
            "_view_module_version": "1.2.0",
            "_view_name": "LayoutView",
            "align_content": null,
            "align_items": null,
            "align_self": null,
            "border": null,
            "bottom": null,
            "display": null,
            "flex": null,
            "flex_flow": null,
            "grid_area": null,
            "grid_auto_columns": null,
            "grid_auto_flow": null,
            "grid_auto_rows": null,
            "grid_column": null,
            "grid_gap": null,
            "grid_row": null,
            "grid_template_areas": null,
            "grid_template_columns": null,
            "grid_template_rows": null,
            "height": null,
            "justify_content": null,
            "justify_items": null,
            "left": null,
            "margin": null,
            "max_height": null,
            "max_width": null,
            "min_height": null,
            "min_width": null,
            "object_fit": null,
            "object_position": null,
            "order": null,
            "overflow": null,
            "overflow_x": null,
            "overflow_y": null,
            "padding": null,
            "right": null,
            "top": null,
            "visibility": null,
            "width": null
          }
        },
        "bd5408c16df846849dd62e6082451f62": {
          "model_module": "@jupyter-widgets/base",
          "model_name": "LayoutModel",
          "model_module_version": "1.2.0",
          "state": {
            "_model_module": "@jupyter-widgets/base",
            "_model_module_version": "1.2.0",
            "_model_name": "LayoutModel",
            "_view_count": null,
            "_view_module": "@jupyter-widgets/base",
            "_view_module_version": "1.2.0",
            "_view_name": "LayoutView",
            "align_content": null,
            "align_items": null,
            "align_self": null,
            "border": null,
            "bottom": null,
            "display": null,
            "flex": null,
            "flex_flow": null,
            "grid_area": null,
            "grid_auto_columns": null,
            "grid_auto_flow": null,
            "grid_auto_rows": null,
            "grid_column": null,
            "grid_gap": null,
            "grid_row": null,
            "grid_template_areas": null,
            "grid_template_columns": null,
            "grid_template_rows": null,
            "height": null,
            "justify_content": null,
            "justify_items": null,
            "left": null,
            "margin": null,
            "max_height": null,
            "max_width": null,
            "min_height": null,
            "min_width": null,
            "object_fit": null,
            "object_position": null,
            "order": null,
            "overflow": null,
            "overflow_x": null,
            "overflow_y": null,
            "padding": null,
            "right": null,
            "top": null,
            "visibility": null,
            "width": null
          }
        },
        "a7eb1ce32ae446db8b68de46467dd7e8": {
          "model_module": "@jupyter-widgets/controls",
          "model_name": "DescriptionStyleModel",
          "model_module_version": "1.5.0",
          "state": {
            "_model_module": "@jupyter-widgets/controls",
            "_model_module_version": "1.5.0",
            "_model_name": "DescriptionStyleModel",
            "_view_count": null,
            "_view_module": "@jupyter-widgets/base",
            "_view_module_version": "1.2.0",
            "_view_name": "StyleView",
            "description_width": ""
          }
        },
        "4cabda92fd3f4c9682a5ea90f63b84f3": {
          "model_module": "@jupyter-widgets/base",
          "model_name": "LayoutModel",
          "model_module_version": "1.2.0",
          "state": {
            "_model_module": "@jupyter-widgets/base",
            "_model_module_version": "1.2.0",
            "_model_name": "LayoutModel",
            "_view_count": null,
            "_view_module": "@jupyter-widgets/base",
            "_view_module_version": "1.2.0",
            "_view_name": "LayoutView",
            "align_content": null,
            "align_items": null,
            "align_self": null,
            "border": null,
            "bottom": null,
            "display": null,
            "flex": null,
            "flex_flow": null,
            "grid_area": null,
            "grid_auto_columns": null,
            "grid_auto_flow": null,
            "grid_auto_rows": null,
            "grid_column": null,
            "grid_gap": null,
            "grid_row": null,
            "grid_template_areas": null,
            "grid_template_columns": null,
            "grid_template_rows": null,
            "height": null,
            "justify_content": null,
            "justify_items": null,
            "left": null,
            "margin": null,
            "max_height": null,
            "max_width": null,
            "min_height": null,
            "min_width": null,
            "object_fit": null,
            "object_position": null,
            "order": null,
            "overflow": null,
            "overflow_x": null,
            "overflow_y": null,
            "padding": null,
            "right": null,
            "top": null,
            "visibility": null,
            "width": null
          }
        },
        "628cc71f72ba46e0a35926d5221f5cab": {
          "model_module": "@jupyter-widgets/controls",
          "model_name": "ProgressStyleModel",
          "model_module_version": "1.5.0",
          "state": {
            "_model_module": "@jupyter-widgets/controls",
            "_model_module_version": "1.5.0",
            "_model_name": "ProgressStyleModel",
            "_view_count": null,
            "_view_module": "@jupyter-widgets/base",
            "_view_module_version": "1.2.0",
            "_view_name": "StyleView",
            "bar_color": null,
            "description_width": ""
          }
        },
        "06206c0b85c74665810ae881ebc59951": {
          "model_module": "@jupyter-widgets/base",
          "model_name": "LayoutModel",
          "model_module_version": "1.2.0",
          "state": {
            "_model_module": "@jupyter-widgets/base",
            "_model_module_version": "1.2.0",
            "_model_name": "LayoutModel",
            "_view_count": null,
            "_view_module": "@jupyter-widgets/base",
            "_view_module_version": "1.2.0",
            "_view_name": "LayoutView",
            "align_content": null,
            "align_items": null,
            "align_self": null,
            "border": null,
            "bottom": null,
            "display": null,
            "flex": null,
            "flex_flow": null,
            "grid_area": null,
            "grid_auto_columns": null,
            "grid_auto_flow": null,
            "grid_auto_rows": null,
            "grid_column": null,
            "grid_gap": null,
            "grid_row": null,
            "grid_template_areas": null,
            "grid_template_columns": null,
            "grid_template_rows": null,
            "height": null,
            "justify_content": null,
            "justify_items": null,
            "left": null,
            "margin": null,
            "max_height": null,
            "max_width": null,
            "min_height": null,
            "min_width": null,
            "object_fit": null,
            "object_position": null,
            "order": null,
            "overflow": null,
            "overflow_x": null,
            "overflow_y": null,
            "padding": null,
            "right": null,
            "top": null,
            "visibility": null,
            "width": null
          }
        },
        "af7672f435cc4e92ba344c841c74f9ab": {
          "model_module": "@jupyter-widgets/controls",
          "model_name": "DescriptionStyleModel",
          "model_module_version": "1.5.0",
          "state": {
            "_model_module": "@jupyter-widgets/controls",
            "_model_module_version": "1.5.0",
            "_model_name": "DescriptionStyleModel",
            "_view_count": null,
            "_view_module": "@jupyter-widgets/base",
            "_view_module_version": "1.2.0",
            "_view_name": "StyleView",
            "description_width": ""
          }
        },
        "9cd7c0705b77448e93702bfb25b7541e": {
          "model_module": "@jupyter-widgets/controls",
          "model_name": "HBoxModel",
          "model_module_version": "1.5.0",
          "state": {
            "_dom_classes": [],
            "_model_module": "@jupyter-widgets/controls",
            "_model_module_version": "1.5.0",
            "_model_name": "HBoxModel",
            "_view_count": null,
            "_view_module": "@jupyter-widgets/controls",
            "_view_module_version": "1.5.0",
            "_view_name": "HBoxView",
            "box_style": "",
            "children": [
              "IPY_MODEL_3fd353d4de474132ae522c852a7efef3",
              "IPY_MODEL_7f7f64b4299f49568004d68ade83d32e",
              "IPY_MODEL_2d5104dcc16b47de8af15989d780a614"
            ],
            "layout": "IPY_MODEL_07be4d03ce6c4e5e87447e68ecf383d0"
          }
        },
        "3fd353d4de474132ae522c852a7efef3": {
          "model_module": "@jupyter-widgets/controls",
          "model_name": "HTMLModel",
          "model_module_version": "1.5.0",
          "state": {
            "_dom_classes": [],
            "_model_module": "@jupyter-widgets/controls",
            "_model_module_version": "1.5.0",
            "_model_name": "HTMLModel",
            "_view_count": null,
            "_view_module": "@jupyter-widgets/controls",
            "_view_module_version": "1.5.0",
            "_view_name": "HTMLView",
            "description": "",
            "description_tooltip": null,
            "layout": "IPY_MODEL_c50551af99074dbb99834ab8d4886467",
            "placeholder": "​",
            "style": "IPY_MODEL_d9cbcc0b57794c0eb3e49eae9f200796",
            "value": ""
          }
        },
        "7f7f64b4299f49568004d68ade83d32e": {
          "model_module": "@jupyter-widgets/controls",
          "model_name": "FloatProgressModel",
          "model_module_version": "1.5.0",
          "state": {
            "_dom_classes": [],
            "_model_module": "@jupyter-widgets/controls",
            "_model_module_version": "1.5.0",
            "_model_name": "FloatProgressModel",
            "_view_count": null,
            "_view_module": "@jupyter-widgets/controls",
            "_view_module_version": "1.5.0",
            "_view_name": "ProgressView",
            "bar_style": "success",
            "description": "",
            "description_tooltip": null,
            "layout": "IPY_MODEL_573c027972e7439d914c3fc888d8c346",
            "max": 5148,
            "min": 0,
            "orientation": "horizontal",
            "style": "IPY_MODEL_f06818f5c18d4d86891116a230961400",
            "value": 5148
          }
        },
        "2d5104dcc16b47de8af15989d780a614": {
          "model_module": "@jupyter-widgets/controls",
          "model_name": "HTMLModel",
          "model_module_version": "1.5.0",
          "state": {
            "_dom_classes": [],
            "_model_module": "@jupyter-widgets/controls",
            "_model_module_version": "1.5.0",
            "_model_name": "HTMLModel",
            "_view_count": null,
            "_view_module": "@jupyter-widgets/controls",
            "_view_module_version": "1.5.0",
            "_view_name": "HTMLView",
            "description": "",
            "description_tooltip": null,
            "layout": "IPY_MODEL_6c44fdf6380442b4a2027040c87cbcab",
            "placeholder": "​",
            "style": "IPY_MODEL_5c2582e37c07417bab9b266e6a902856",
            "value": " 6144/? [00:00&lt;00:00, 396995.99it/s]"
          }
        },
        "07be4d03ce6c4e5e87447e68ecf383d0": {
          "model_module": "@jupyter-widgets/base",
          "model_name": "LayoutModel",
          "model_module_version": "1.2.0",
          "state": {
            "_model_module": "@jupyter-widgets/base",
            "_model_module_version": "1.2.0",
            "_model_name": "LayoutModel",
            "_view_count": null,
            "_view_module": "@jupyter-widgets/base",
            "_view_module_version": "1.2.0",
            "_view_name": "LayoutView",
            "align_content": null,
            "align_items": null,
            "align_self": null,
            "border": null,
            "bottom": null,
            "display": null,
            "flex": null,
            "flex_flow": null,
            "grid_area": null,
            "grid_auto_columns": null,
            "grid_auto_flow": null,
            "grid_auto_rows": null,
            "grid_column": null,
            "grid_gap": null,
            "grid_row": null,
            "grid_template_areas": null,
            "grid_template_columns": null,
            "grid_template_rows": null,
            "height": null,
            "justify_content": null,
            "justify_items": null,
            "left": null,
            "margin": null,
            "max_height": null,
            "max_width": null,
            "min_height": null,
            "min_width": null,
            "object_fit": null,
            "object_position": null,
            "order": null,
            "overflow": null,
            "overflow_x": null,
            "overflow_y": null,
            "padding": null,
            "right": null,
            "top": null,
            "visibility": null,
            "width": null
          }
        },
        "c50551af99074dbb99834ab8d4886467": {
          "model_module": "@jupyter-widgets/base",
          "model_name": "LayoutModel",
          "model_module_version": "1.2.0",
          "state": {
            "_model_module": "@jupyter-widgets/base",
            "_model_module_version": "1.2.0",
            "_model_name": "LayoutModel",
            "_view_count": null,
            "_view_module": "@jupyter-widgets/base",
            "_view_module_version": "1.2.0",
            "_view_name": "LayoutView",
            "align_content": null,
            "align_items": null,
            "align_self": null,
            "border": null,
            "bottom": null,
            "display": null,
            "flex": null,
            "flex_flow": null,
            "grid_area": null,
            "grid_auto_columns": null,
            "grid_auto_flow": null,
            "grid_auto_rows": null,
            "grid_column": null,
            "grid_gap": null,
            "grid_row": null,
            "grid_template_areas": null,
            "grid_template_columns": null,
            "grid_template_rows": null,
            "height": null,
            "justify_content": null,
            "justify_items": null,
            "left": null,
            "margin": null,
            "max_height": null,
            "max_width": null,
            "min_height": null,
            "min_width": null,
            "object_fit": null,
            "object_position": null,
            "order": null,
            "overflow": null,
            "overflow_x": null,
            "overflow_y": null,
            "padding": null,
            "right": null,
            "top": null,
            "visibility": null,
            "width": null
          }
        },
        "d9cbcc0b57794c0eb3e49eae9f200796": {
          "model_module": "@jupyter-widgets/controls",
          "model_name": "DescriptionStyleModel",
          "model_module_version": "1.5.0",
          "state": {
            "_model_module": "@jupyter-widgets/controls",
            "_model_module_version": "1.5.0",
            "_model_name": "DescriptionStyleModel",
            "_view_count": null,
            "_view_module": "@jupyter-widgets/base",
            "_view_module_version": "1.2.0",
            "_view_name": "StyleView",
            "description_width": ""
          }
        },
        "573c027972e7439d914c3fc888d8c346": {
          "model_module": "@jupyter-widgets/base",
          "model_name": "LayoutModel",
          "model_module_version": "1.2.0",
          "state": {
            "_model_module": "@jupyter-widgets/base",
            "_model_module_version": "1.2.0",
            "_model_name": "LayoutModel",
            "_view_count": null,
            "_view_module": "@jupyter-widgets/base",
            "_view_module_version": "1.2.0",
            "_view_name": "LayoutView",
            "align_content": null,
            "align_items": null,
            "align_self": null,
            "border": null,
            "bottom": null,
            "display": null,
            "flex": null,
            "flex_flow": null,
            "grid_area": null,
            "grid_auto_columns": null,
            "grid_auto_flow": null,
            "grid_auto_rows": null,
            "grid_column": null,
            "grid_gap": null,
            "grid_row": null,
            "grid_template_areas": null,
            "grid_template_columns": null,
            "grid_template_rows": null,
            "height": null,
            "justify_content": null,
            "justify_items": null,
            "left": null,
            "margin": null,
            "max_height": null,
            "max_width": null,
            "min_height": null,
            "min_width": null,
            "object_fit": null,
            "object_position": null,
            "order": null,
            "overflow": null,
            "overflow_x": null,
            "overflow_y": null,
            "padding": null,
            "right": null,
            "top": null,
            "visibility": null,
            "width": null
          }
        },
        "f06818f5c18d4d86891116a230961400": {
          "model_module": "@jupyter-widgets/controls",
          "model_name": "ProgressStyleModel",
          "model_module_version": "1.5.0",
          "state": {
            "_model_module": "@jupyter-widgets/controls",
            "_model_module_version": "1.5.0",
            "_model_name": "ProgressStyleModel",
            "_view_count": null,
            "_view_module": "@jupyter-widgets/base",
            "_view_module_version": "1.2.0",
            "_view_name": "StyleView",
            "bar_color": null,
            "description_width": ""
          }
        },
        "6c44fdf6380442b4a2027040c87cbcab": {
          "model_module": "@jupyter-widgets/base",
          "model_name": "LayoutModel",
          "model_module_version": "1.2.0",
          "state": {
            "_model_module": "@jupyter-widgets/base",
            "_model_module_version": "1.2.0",
            "_model_name": "LayoutModel",
            "_view_count": null,
            "_view_module": "@jupyter-widgets/base",
            "_view_module_version": "1.2.0",
            "_view_name": "LayoutView",
            "align_content": null,
            "align_items": null,
            "align_self": null,
            "border": null,
            "bottom": null,
            "display": null,
            "flex": null,
            "flex_flow": null,
            "grid_area": null,
            "grid_auto_columns": null,
            "grid_auto_flow": null,
            "grid_auto_rows": null,
            "grid_column": null,
            "grid_gap": null,
            "grid_row": null,
            "grid_template_areas": null,
            "grid_template_columns": null,
            "grid_template_rows": null,
            "height": null,
            "justify_content": null,
            "justify_items": null,
            "left": null,
            "margin": null,
            "max_height": null,
            "max_width": null,
            "min_height": null,
            "min_width": null,
            "object_fit": null,
            "object_position": null,
            "order": null,
            "overflow": null,
            "overflow_x": null,
            "overflow_y": null,
            "padding": null,
            "right": null,
            "top": null,
            "visibility": null,
            "width": null
          }
        },
        "5c2582e37c07417bab9b266e6a902856": {
          "model_module": "@jupyter-widgets/controls",
          "model_name": "DescriptionStyleModel",
          "model_module_version": "1.5.0",
          "state": {
            "_model_module": "@jupyter-widgets/controls",
            "_model_module_version": "1.5.0",
            "_model_name": "DescriptionStyleModel",
            "_view_count": null,
            "_view_module": "@jupyter-widgets/base",
            "_view_module_version": "1.2.0",
            "_view_name": "StyleView",
            "description_width": ""
          }
        }
      }
    }
  },
  "nbformat": 4,
  "nbformat_minor": 0
}